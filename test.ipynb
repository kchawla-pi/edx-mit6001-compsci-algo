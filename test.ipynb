{
 "cells": [
  {
   "cell_type": "code",
   "execution_count": 3,
   "metadata": {
    "collapsed": true
   },
   "outputs": [
    {
     "name": "stdout",
     "output_type": "stream",
     "text": [
      "[[[[[[6]]]]]]\n[[[[[6]]]]]\n[[[[6]]]]\n[[[6]]]\n[[6]]\n[6]\n6\nNone\n(5, (1, 2), [[1], [9]])\n[[1], [9]]\n[9]\n9\nNone\n"
     ]
    }
   ],
   "source": [
    "def max_val(t):\n",
    "    \"\"\" t, tuple or list\n",
    "        Each element of t is either an int, a tuple, or a list\n",
    "        No tuple or list is empty\n",
    "        Returns the maximum int in t or (recursively) in an element of t \"\"\"\n",
    "    print(t)\n",
    "    try:\n",
    "        max_val(t[-1])\n",
    "    except TypeError:\n",
    "        return max(t)\n",
    "\n",
    "\n",
    "t = max_val([[[[[[6]]]]]])\n",
    "print(t)\n",
    "t = max_val((5, (1, 2), [[1], [9]]))\n",
    "print(t)"
   ]
  },
  {
   "cell_type": "code",
   "execution_count": 4,
   "metadata": {},
   "outputs": [
    {
     "ename": "TypeError",
     "evalue": "'int' object is not iterable",
     "traceback": [
      "\u001b[1;31m---------------------------------------------------------------------------\u001b[0m",
      "\u001b[1;31mTypeError\u001b[0m                                 Traceback (most recent call last)",
      "\u001b[1;32m<ipython-input-4-ed954acfeed2>\u001b[0m in \u001b[0;36m<module>\u001b[1;34m()\u001b[0m\n\u001b[1;32m----> 1\u001b[1;33m \u001b[0mmax\u001b[0m\u001b[1;33m(\u001b[0m\u001b[1;36m6\u001b[0m\u001b[1;33m)\u001b[0m\u001b[1;33m\u001b[0m\u001b[0m\n\u001b[0m",
      "\u001b[1;31mTypeError\u001b[0m: 'int' object is not iterable"
     ],
     "output_type": "error"
    }
   ],
   "source": [
    "max(6)\n"
   ]
  },
  {
   "cell_type": "code",
   "execution_count": null,
   "metadata": {},
   "outputs": [],
   "source": []
  }
 ],
 "metadata": {
  "kernelspec": {
   "display_name": "Python 2",
   "language": "python",
   "name": "python2"
  },
  "language_info": {
   "codemirror_mode": {
    "name": "ipython",
    "version": 2
   },
   "file_extension": ".py",
   "mimetype": "text/x-python",
   "name": "python",
   "nbconvert_exporter": "python",
   "pygments_lexer": "ipython2",
   "version": "2.7.6"
  }
 },
 "nbformat": 4,
 "nbformat_minor": 0
}
